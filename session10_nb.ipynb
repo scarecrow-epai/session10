{
 "cells": [
  {
   "cell_type": "code",
   "execution_count": 3,
   "metadata": {},
   "outputs": [],
   "source": [
    "import random\n",
    "import datetime\n",
    "from faker import Faker\n",
    "from collections import namedtuple\n",
    "\n",
    "from session10 import timed, create_prof, create_company, get_avg_age, get_max_age, get_mean_location, get_mode_bloodgroup"
   ]
  },
  {
   "cell_type": "markdown",
   "metadata": {},
   "source": [
    "## Question 1 and 2"
   ]
  },
  {
   "cell_type": "code",
   "execution_count": 4,
   "metadata": {},
   "outputs": [
    {
     "name": "stdout",
     "output_type": "stream",
     "text": [
      "O-\n",
      "42366\n",
      "(Decimal('-5109.0652505'), Decimal('9299.6715995'))\n",
      "21158.719\n",
      "O-\n",
      "42366\n",
      "(Decimal('-5109.0652505'), Decimal('9299.6715995'))\n",
      "21158.719\n"
     ]
    }
   ],
   "source": [
    "test_prof_tuple, test_prof_dict = create_prof(10_000)\n",
    "num_runs = 100\n",
    "\n",
    "\n",
    "perf_tuples = dict()\n",
    "perf_dict = dict()\n",
    "\n",
    "print(timed(get_mode_bloodgroup, num_runs, perf_tuples)(test_prof_tuple, \"nt\"))\n",
    "print(timed(get_max_age, num_runs, perf_tuples)(test_prof_tuple, \"nt\"))\n",
    "print(timed(get_mean_location, num_runs, perf_tuples)(test_prof_tuple, \"nt\"))\n",
    "print(timed(get_avg_age, num_runs, perf_tuples)(test_prof_tuple, \"nt\"))\n",
    "\n",
    "print(timed(get_mode_bloodgroup, num_runs, perf_dict)(test_prof_dict, \"dict\"))\n",
    "print(timed(get_max_age, num_runs, perf_dict)(test_prof_dict, \"dict\"))\n",
    "print(timed(get_mean_location, num_runs, perf_dict)(test_prof_dict, \"dict\"))\n",
    "print(timed(get_avg_age, num_runs, perf_dict)(test_prof_dict, \"dict\"))"
   ]
  },
  {
   "cell_type": "code",
   "execution_count": 5,
   "metadata": {},
   "outputs": [
    {
     "data": {
      "text/plain": [
       "{'get_mode_bloodgroup': 1.7012869993777712e-05,\n",
       " 'get_max_age': 0.00022715996001352324,\n",
       " 'get_mean_location': 2.8200689994264393e-05,\n",
       " 'get_avg_age': 0.0001127324499975657}"
      ]
     },
     "execution_count": 5,
     "metadata": {},
     "output_type": "execute_result"
    }
   ],
   "source": [
    "perf_tuples"
   ]
  },
  {
   "cell_type": "code",
   "execution_count": 6,
   "metadata": {},
   "outputs": [
    {
     "data": {
      "text/plain": [
       "{'get_mode_bloodgroup': 1.3301250000949948e-05,\n",
       " 'get_max_age': 0.00022448274999987917,\n",
       " 'get_mean_location': 2.385791998676723e-05,\n",
       " 'get_avg_age': 0.0001113778299986734}"
      ]
     },
     "execution_count": 6,
     "metadata": {},
     "output_type": "execute_result"
    }
   ],
   "source": [
    "perf_dict"
   ]
  },
  {
   "cell_type": "markdown",
   "metadata": {},
   "source": [
    "## Question 3"
   ]
  },
  {
   "cell_type": "code",
   "execution_count": 7,
   "metadata": {
    "scrolled": false
   },
   "outputs": [
    {
     "data": {
      "text/plain": [
       "[Company(name='Kelley, Oconnor and Morales', symbol='CENL', opens=2604, high=2404.918310700139, close=2404.918310700139),\n",
       " Company(name='Woods-Nolan', symbol='SNO-', opens=128, high=120.31273058794392, close=120.31273058794392),\n",
       " Company(name='Mckinney Inc', symbol='INCM', opens=1880, high=2197.361000289494, close=2147.5726448462715),\n",
       " Company(name='Parker Inc', symbol='CPER', opens=3471, high=3843.5781152935033, close=3843.5781152935033),\n",
       " Company(name='Rice Inc', symbol='NRCI', opens=218, high=245.01345840881623, close=245.01345840881623),\n",
       " Company(name='Johnson-Palmer', symbol='ENAM', opens=526, high=554.4277743463001, close=443.52938589086966),\n",
       " Company(name='Nelson, Griffin and Cole', symbol='ORLD', opens=1332, high=1501.8604768944408, close=1501.8604768944408),\n",
       " Company(name='Smith, Newman and Sanders', symbol='NSNA', opens=1638, high=1936.4709147880362, close=1936.4709147880362),\n",
       " Company(name='Braun Inc', symbol='NBRC', opens=208, high=241.56024012969192, close=180.28604681140067),\n",
       " Company(name='Jackson and Sons', symbol='JODO', opens=1561, high=1844.6302022534805, close=1844.6302022534805),\n",
       " Company(name='Parsons, Trujillo and Carter', symbol='STIP', opens=611, high=696.6255673910852, close=670.5209903856943),\n",
       " Company(name='Gutierrez Inc', symbol='UIRT', opens=2964, high=2873.4122107899293, close=2873.4122107899293),\n",
       " Company(name='Williams-Potter', symbol='SMT-', opens=1328, high=1388.4452044219738, close=1357.5923492547802),\n",
       " Company(name='Sullivan Group', symbol='NPRV', opens=1801, high=2087.729453879691, close=2087.729453879691),\n",
       " Company(name='Lee PLC', symbol='LEPL', opens=256, high=302.3162570389163, close=302.3162570389163),\n",
       " Company(name='Weber Ltd', symbol='ETRB', opens=1747, high=1640.261456915283, close=1640.261456915283),\n",
       " Company(name='Lam-Deleon', symbol='M-OE', opens=2739, high=2828.6965971743757, close=2431.8188620416054),\n",
       " Company(name='Kerr-Walters', symbol='SRAW', opens=2139, high=2474.4254880006492, close=2474.4254880006492),\n",
       " Company(name='Woods-Andrews', symbol='OSWS', opens=506, high=530.147575811657, close=530.147575811657),\n",
       " Company(name='Cole-Campos', symbol='SMEO', opens=220, high=252.68803569847694, close=251.7079184993282),\n",
       " Company(name='Garza, Myers and Scott', symbol='TAOS', opens=3239, high=3662.3459920529385, close=2887.7542575294938),\n",
       " Company(name='Evans-Wilson', symbol='ALIS', opens=3073, high=3141.5422486103143, close=2961.2198844756176),\n",
       " Company(name='Gross, Cox and Parker', symbol='NOSX', opens=2898, high=3205.565992091923, close=2587.9709481023615),\n",
       " Company(name='Hansen Group', symbol='SONP', opens=2295, high=2657.7544192772048, close=2210.4604023005822),\n",
       " Company(name='Rivera Group', symbol='AUIP', opens=1690, high=1796.8878242952708, close=1796.8878242952708),\n",
       " Company(name='Lopez, Miller and Jarvis', symbol='IILR', opens=2234, high=2091.0096935132083, close=2091.0096935132083),\n",
       " Company(name='Mahoney, Taylor and Garcia', symbol='OAA,', opens=984, high=931.1067118308099, close=931.1067118308099),\n",
       " Company(name='Simpson Ltd', symbol='NSLO', opens=2612, high=3028.9575971766935, close=3028.9575971766935),\n",
       " Company(name='Castaneda, Cameron and Floyd', symbol='EADE', opens=736, high=798.2435946505877, close=798.2435946505877),\n",
       " Company(name='Taylor-Scott', symbol='-RTO', opens=3917, high=4598.660018714558, close=4136.316786146919),\n",
       " Company(name='Anderson, Adams and Lucas', symbol='MSCN', opens=1371, high=1593.407021054007, close=1593.407021054007),\n",
       " Company(name='Mitchell-Turner', symbol='EHL-', opens=899, high=821.8462864473727, close=741.1699114393593),\n",
       " Company(name='Bailey, Martin and Chang', symbol='NCAR', opens=2642, high=2391.8848001964175, close=2241.722260785138),\n",
       " Company(name='Glass LLC', symbol='LLGA', opens=905, high=918.792784377378, close=886.326483828741),\n",
       " Company(name='Smith-Andersen', symbol='ERAD', opens=3730, high=3751.0794033746442, close=3751.0794033746442),\n",
       " Company(name='Middleton, Coffey and Williams', symbol='ANOD', opens=643, high=686.3654298988746, close=530.29448237847),\n",
       " Company(name='Castro, Byrd and Castillo', symbol='CROD', opens=1415, high=1606.1968794995012, close=1198.8745490186386),\n",
       " Company(name='Wilson, Weeks and Johnson', symbol='NNSK', opens=1970, high=1712.8114757600024, close=1658.7891454578341),\n",
       " Company(name='Lucas, Massey and Cooper', symbol='U,SD', opens=2134, high=2401.752702680013, close=2401.752702680013),\n",
       " Company(name='Gray-Martinez', symbol='RMTG', opens=2371, high=2623.8370109479433, close=2259.637748661706),\n",
       " Company(name='Wright Group', symbol='TOIU', opens=2725, high=2889.760486810929, close=2747.650353053469),\n",
       " Company(name='Brown, Frederick and Hughes', symbol='RINR', opens=2223, high=2256.2382722487255, close=2039.6002945393911),\n",
       " Company(name='Arroyo LLC', symbol='YORO', opens=2124, high=2298.618099567182, close=2298.618099567182),\n",
       " Company(name='Carroll-Park', symbol='RP-A', opens=3411, high=4002.5223146497356, close=3398.856601747882),\n",
       " Company(name='Curry Ltd', symbol='DUCT', opens=3752, high=4463.114714907396, close=4463.114714907396),\n",
       " Company(name='Walker, Obrien and Bennett', symbol='TRBT', opens=1574, high=1574.342178820932, close=1574.342178820932),\n",
       " Company(name='Harrison LLC', symbol='OLAR', opens=1240, high=1140.2064657689668, close=1097.8715964383598),\n",
       " Company(name='Phillips-Mitchell', symbol='CMST', opens=1169, high=1302.89392539855, close=1302.89392539855),\n",
       " Company(name='Saunders, Scott and Lane', symbol='ANLD', opens=2301, high=2618.990455260009, close=2618.990455260009),\n",
       " Company(name='Hall Inc', symbol='AILN', opens=1947, high=2090.6370568726684, close=2090.6370568726684),\n",
       " Company(name='Hall PLC', symbol='LHLA', opens=2422, high=2775.074926974888, close=2775.074926974888),\n",
       " Company(name='Lawrence-Brooks', symbol='-ORS', opens=1075, high=1043.8442027701965, close=923.5933615102705),\n",
       " Company(name='Pugh PLC', symbol='PGUL', opens=1123, high=1032.6996929811626, close=1032.6996929811626),\n",
       " Company(name='Williamson, Moody and Page', symbol='ANDA', opens=1116, high=1319.6575421297919, close=993.1595627424431),\n",
       " Company(name='Carter-Horton', symbol='CTTO', opens=1870, high=2015.2837007156527, close=2015.2837007156527),\n",
       " Company(name='Wilson-Craig', symbol='SLAW', opens=370, high=396.9653169139084, close=396.9653169139084),\n",
       " Company(name='Hickman, Blake and Jordan', symbol='NMRD', opens=2671, high=2896.5753141410155, close=2660.7138649213607),\n",
       " Company(name='Ford Ltd', symbol='DFLR', opens=634, high=682.2784781179557, close=682.2784781179557),\n",
       " Company(name='Bradley, Estrada and Lucas', symbol='AURE', opens=1587, high=1868.2387923668698, close=1868.2387923668698),\n",
       " Company(name='Oconnell Ltd', symbol='ETOL', opens=1280, high=1199.1013389559585, close=1132.6343955144112),\n",
       " Company(name='Richard-Mcgrath', symbol='MACR', opens=466, high=520.9126431495142, close=489.28010072738414),\n",
       " Company(name='Salas Group', symbol='SSLA', opens=2149, high=2425.9754879760085, close=1910.8291045559595),\n",
       " Company(name='Kelly-Turner', symbol='EKYE', opens=1768, high=1640.7454782623936, close=1640.7454782623936),\n",
       " Company(name='Bird, Goodwin and Pollard', symbol='PROL', opens=1642, high=1954.2217084408035, close=1460.6768032047746),\n",
       " Company(name='Reid PLC', symbol='DLCI', opens=1229, high=1264.0313304168471, close=1264.0313304168471),\n",
       " Company(name='Mata, Miller and Carrillo', symbol='ECRL', opens=3972, high=3741.1994611656232, close=3436.673701993745),\n",
       " Company(name='Martinez Inc', symbol='IINC', opens=3923, high=4212.277806048999, close=3217.115965823779),\n",
       " Company(name='Kim, Mclean and Ellis', symbol='LAKS', opens=542, high=552.2964394957224, close=495.86615926670635),\n",
       " Company(name='Fox PLC', symbol='OFPX', opens=2857, high=3006.3021181549275, close=3006.3021181549275),\n",
       " Company(name='Trevino-Rodriguez', symbol='IOZN', opens=1210, high=1396.021887671481, close=1211.1889960188983),\n",
       " Company(name='Moore-Perry', symbol='YRRM', opens=448, high=409.0062015898157, close=359.654004837593),\n",
       " Company(name='Castillo Group', symbol='UPRO', opens=3388, high=3862.426472531104, close=3862.426472531104),\n",
       " Company(name='Jimenez LLC', symbol='NJLE', opens=1131, high=1225.1311491438537, close=973.8036511095767),\n",
       " Company(name='Rose LLC', symbol='LELR', opens=1165, high=1046.9268968966628, close=1046.9268968966628),\n",
       " Company(name='Jones-Harrington', symbol='ESGN', opens=378, high=378.97179937815713, close=346.7284876278264),\n",
       " Company(name='Cameron, Bishop and Washington', symbol='WOO,', opens=311, high=332.15451852949695, close=328.00527098211677),\n",
       " Company(name='Hudson PLC', symbol='LUPC', opens=3937, high=4147.358790505418, close=4147.358790505418),\n",
       " Company(name='Bradley, May and Davis', symbol='DBLY', opens=927, high=1028.7464356218584, close=1028.7464356218584),\n",
       " Company(name='Flores, Ball and Thomas', symbol='EAST', opens=3215, high=3696.345036545242, close=2586.429757786699),\n",
       " Company(name='Thompson Group', symbol='PHOU', opens=1361, high=1434.6972198288086, close=1383.6834649722057),\n",
       " Company(name='Perkins, Adams and Harris', symbol='ASKP', opens=1572, high=1447.9495645165084, close=1447.9495645165084),\n",
       " Company(name='Elliott PLC', symbol='PLOT', opens=1848, high=2134.004290042121, close=1683.143282295081),\n",
       " Company(name='Harris Inc', symbol='IRCH', opens=3637, high=3969.002358920131, close=3904.1114266638056),\n",
       " Company(name='Raymond-Mueller', symbol='U-EL', opens=154, high=154.3411936528836, close=128.37973293549115),\n",
       " Company(name='Brown, Huffman and Thompson', symbol='BORM', opens=1848, high=2140.0617558881163, close=2006.5826302458177),\n",
       " Company(name='Rivera, Hall and Hernandez', symbol='NAIL', opens=1289, high=1171.8650383732445, close=1101.0151229930568),\n",
       " Company(name='Sandoval LLC', symbol='VALC', opens=2200, high=2515.607460116485, close=2515.607460116485),\n",
       " Company(name='Fletcher and Sons', symbol='FNRH', opens=2803, high=3249.003280403733, close=3139.442589689379),\n",
       " Company(name='Horton-Bush', symbol='UHBT', opens=2971, high=3415.904271201884, close=3415.904271201884),\n",
       " Company(name='Tate LLC', symbol='LCTA', opens=1888, high=2035.5077410247402, close=2035.5077410247402),\n",
       " Company(name='Sampson, Moore and Hicks', symbol=',PON', opens=3230, high=3836.162613868183, close=3175.9080512259147),\n",
       " Company(name='Jensen LLC', symbol='SCJL', opens=305, high=332.4028329982577, close=332.4028329982577),\n",
       " Company(name='Keith-Soto', symbol='OTIH', opens=46, high=51.48231516230915, close=40.521794719336036),\n",
       " Company(name='Spencer-Hendrix', symbol='PIHD', opens=2851, high=2680.4084960596624, close=2680.4084960596624),\n",
       " Company(name='Norton, Moore and Robinson', symbol='NON,', opens=1619, high=1861.489963715288, close=1861.489963715288),\n",
       " Company(name='Johnson-Monroe', symbol='-OEO', opens=92, high=106.60248775545928, close=106.459896114927),\n",
       " Company(name='Pittman, Mann and Clark', symbol='TM,N', opens=3879, high=3880.7232288022874, close=3880.7232288022874),\n",
       " Company(name='Wagner-Garcia', symbol='N-ER', opens=2077, high=2147.5612938628865, close=2147.5612938628865),\n",
       " Company(name='Moore, Jordan and Stevenson', symbol='DDEA', opens=2163, high=2189.151647998653, close=1875.2061472680548),\n",
       " Company(name='Mcdonald-Brown', symbol='RWBD', opens=773, high=813.5146691641842, close=800.1418618910815)]"
      ]
     },
     "execution_count": 7,
     "metadata": {},
     "output_type": "execute_result"
    }
   ],
   "source": [
    "create_company(100)"
   ]
  },
  {
   "cell_type": "code",
   "execution_count": null,
   "metadata": {},
   "outputs": [],
   "source": []
  },
  {
   "cell_type": "code",
   "execution_count": null,
   "metadata": {},
   "outputs": [],
   "source": []
  }
 ],
 "metadata": {
  "kernelspec": {
   "display_name": "Python 3",
   "language": "python",
   "name": "python3"
  },
  "language_info": {
   "codemirror_mode": {
    "name": "ipython",
    "version": 3
   },
   "file_extension": ".py",
   "mimetype": "text/x-python",
   "name": "python",
   "nbconvert_exporter": "python",
   "pygments_lexer": "ipython3",
   "version": "3.6.10"
  }
 },
 "nbformat": 4,
 "nbformat_minor": 4
}
