{
 "cells": [
  {
   "cell_type": "code",
   "execution_count": 1,
   "metadata": {},
   "outputs": [],
   "source": [
    "import random\n",
    "import datetime\n",
    "from faker import Faker\n",
    "from collections import namedtuple\n",
    "\n",
    "from session10 import timed, create_prof, create_company, get_avg_age, get_max_age, get_mean_location, get_mode_bloodgroup"
   ]
  },
  {
   "cell_type": "markdown",
   "metadata": {},
   "source": [
    "## Question 1 and 2"
   ]
  },
  {
   "cell_type": "code",
   "execution_count": 6,
   "metadata": {},
   "outputs": [
    {
     "name": "stdout",
     "output_type": "stream",
     "text": [
      "O-\n",
      "42336\n",
      "(Decimal('592.5822730'), Decimal('77.820470'))\n",
      "24604.31\n",
      "O-\n",
      "42336\n",
      "(Decimal('592.5822730'), Decimal('77.820470'))\n",
      "24604.31\n"
     ]
    }
   ],
   "source": [
    "test_prof_tuple, test_prof_dict = create_prof(100)\n",
    "num_runs = 10_00\n",
    "\n",
    "\n",
    "perf_tuples = dict()\n",
    "perf_dict = dict()\n",
    "\n",
    "print(timed(get_mode_bloodgroup, num_runs, perf_tuples)(test_prof_tuple, \"nt\"))\n",
    "print(timed(get_max_age, num_runs, perf_tuples)(test_prof_tuple, \"nt\"))\n",
    "print(timed(get_mean_location, num_runs, perf_tuples)(test_prof_tuple, \"nt\"))\n",
    "print(timed(get_avg_age, num_runs, perf_tuples)(test_prof_tuple, \"nt\"))\n",
    "\n",
    "print(timed(get_mode_bloodgroup, num_runs, perf_dict)(test_prof_dict, \"dict\"))\n",
    "print(timed(get_max_age, num_runs, perf_dict)(test_prof_dict, \"dict\"))\n",
    "print(timed(get_mean_location, num_runs, perf_dict)(test_prof_dict, \"dict\"))\n",
    "print(timed(get_avg_age, num_runs, perf_dict)(test_prof_dict, \"dict\"))"
   ]
  },
  {
   "cell_type": "code",
   "execution_count": 7,
   "metadata": {},
   "outputs": [
    {
     "data": {
      "text/plain": [
       "{'get_mode_bloodgroup': 2.3806001991033553e-08,\n",
       " 'get_max_age': 3.6544299655361103e-07,\n",
       " 'get_mean_location': 4.165399877820164e-08,\n",
       " 'get_avg_age': 1.7598699923837558e-07}"
      ]
     },
     "execution_count": 7,
     "metadata": {},
     "output_type": "execute_result"
    }
   ],
   "source": [
    "perf_tuples"
   ]
  },
  {
   "cell_type": "code",
   "execution_count": 8,
   "metadata": {},
   "outputs": [
    {
     "data": {
      "text/plain": [
       "{'get_mode_bloodgroup': 1.7687001673039048e-08,\n",
       " 'get_max_age': 1.0138330035260878e-06,\n",
       " 'get_mean_location': 3.5074001061730084e-08,\n",
       " 'get_avg_age': 1.732300006551668e-07}"
      ]
     },
     "execution_count": 8,
     "metadata": {},
     "output_type": "execute_result"
    }
   ],
   "source": [
    "perf_dict"
   ]
  },
  {
   "cell_type": "markdown",
   "metadata": {},
   "source": [
    "## Question 3"
   ]
  },
  {
   "cell_type": "code",
   "execution_count": 5,
   "metadata": {
    "scrolled": false
   },
   "outputs": [
    {
     "data": {
      "text/plain": [
       "[Company(name='Brandt-Butler', symbol='UERA', opens=3509, high=3946.2835084666067, close=3946.2835084666067),\n",
       " Company(name='George Inc', symbol='EGGO', opens=1491, high=1511.325932932007, close=1511.325932932007),\n",
       " Company(name='Williams-Carey', symbol='MIY-', opens=3076, high=3149.080032153388, close=2729.6744403783036),\n",
       " Company(name='Barrett-Harrison', symbol='EOSH', opens=2340, high=2757.433767706533, close=2426.035290613106),\n",
       " Company(name='Harris and Sons', symbol='RISN', opens=2837, high=2286.2428670220397, close=2286.2428670220397),\n",
       " Company(name='Mathews and Sons', symbol='DTEM', opens=3481, high=3734.548465649317, close=3734.548465649317),\n",
       " Company(name='Ryan PLC', symbol='PRYN', opens=1457, high=1618.5108403337347, close=1618.5108403337347),\n",
       " Company(name='Wong-Murphy', symbol='RYNH', opens=613, high=639.3394691525981, close=639.3394691525981),\n",
       " Company(name='Nguyen LLC', symbol='GUNL', opens=1343, high=1317.0968465660217, close=1231.8237757939528),\n",
       " Company(name='Miller Inc', symbol='NEIM', opens=3186, high=3659.4461709296484, close=3659.4461709296484),\n",
       " Company(name='Smith, Nelson and Shelton', symbol='NOSA', opens=2873, high=3235.7322991821716, close=2303.3920173145634),\n",
       " Company(name='Cardenas LLC', symbol='ALRE', opens=224, high=257.20178818496964, close=257.20178818496964),\n",
       " Company(name='Leonard, Allen and Stewart', symbol='NATA', opens=2960, high=3037.2390070889483, close=2446.224003213474),\n",
       " Company(name='Ortiz, Boyd and Smith', symbol='HBSN', opens=707, high=830.4125615539156, close=830.4125615539156),\n",
       " Company(name='Diaz-Hamilton', symbol='-TDA', opens=2693, high=3173.7504530003343, close=3173.7504530003343),\n",
       " Company(name='Mckenzie-Smith', symbol='MTHI', opens=409, high=402.98080825743006, close=394.0568576792631),\n",
       " Company(name='Hernandez, Smith and Anderson', symbol='ET,H', opens=1583, high=1732.0410195338286, close=1732.0410195338286),\n",
       " Company(name='Williamson-Atkinson', symbol='WNTI', opens=2866, high=2533.6867580612784, close=2533.6867580612784),\n",
       " Company(name='Russell Group', symbol='RUPG', opens=2047, high=2163.5359040356484, close=2163.5359040356484),\n",
       " Company(name='Wood Ltd', symbol='DTLO', opens=1702, high=1685.5653987939759, close=1624.5381439308055),\n",
       " Company(name='Lopez Inc', symbol='IPZL', opens=3460, high=3591.306258037569, close=3584.8478222780627),\n",
       " Company(name='Mcdonald PLC', symbol='DMLL', opens=3292, high=3285.1767550093487, close=3285.1767550093487),\n",
       " Company(name='Gonzales and Sons', symbol='NSGA', opens=3086, high=3227.4540404158033, close=3227.4540404158033),\n",
       " Company(name='Hodges, Dyer and Livingston', symbol='EYIL', opens=3095, high=3038.653156433827, close=3038.653156433827),\n",
       " Company(name='Marsh LLC', symbol='SALM', opens=1299, high=1512.5787431391043, close=1512.5787431391043),\n",
       " Company(name='Pierce, Pacheco and Gray', symbol='AHCN', opens=107, high=121.3257355988755, close=121.3257355988755),\n",
       " Company(name='Woodard, Miller and Townsend', symbol='TONO', opens=1703, high=1736.8224848985603, close=1711.2145156797637),\n",
       " Company(name='Jordan, Herrera and Moran', symbol='RAAO', opens=3229, high=3693.8819586667655, close=3693.8819586667655),\n",
       " Company(name='Riggs Group', symbol='RGRS', opens=999, high=1178.619591349948, close=925.5979077337604),\n",
       " Company(name='Thomas Group', symbol='OOPS', opens=1823, high=2040.533566161868, close=1694.5548749029108),\n",
       " Company(name='Bishop, Ward and Suarez', symbol='RRWS', opens=3660, high=3875.176325664977, close=3304.6854208461464),\n",
       " Company(name='Donaldson Group', symbol='ONOO', opens=2039, high=2245.240209429591, close=1886.199872446988),\n",
       " Company(name='Cline Inc', symbol='NLNE', opens=295, high=351.36392766348075, close=351.36392766348075),\n",
       " Company(name='Townsend and Sons', symbol='SNNS', opens=2977, high=2957.8730421303494, close=2957.8730421303494),\n",
       " Company(name='Wilson, Mcdaniel and Lewis', symbol='IMNS', opens=2713, high=2746.820504393239, close=2746.820504393239),\n",
       " Company(name='Ramos and Sons', symbol='NDSS', opens=1011, high=956.9644670293235, close=867.7660449864732),\n",
       " Company(name='West-Krueger', symbol='KTSG', opens=2917, high=3468.3383870546745, close=3243.4985626166413),\n",
       " Company(name='Nelson, Henson and Dorsey', symbol='NN,E', opens=2678, high=2653.588838074824, close=2653.588838074824),\n",
       " Company(name='Mitchell-Mueller', symbol='RCLE', opens=3507, high=3553.535333873418, close=3553.535333873418),\n",
       " Company(name='Villanueva-Hunt', symbol='ELVH', opens=400, high=429.9356426249931, close=388.22817259110553),\n",
       " Company(name='Jenkins Group', symbol='KOSU', opens=2710, high=3119.3075056354974, close=2204.0919004834877),\n",
       " Company(name='Warner-Harper', symbol='PAER', opens=186, high=209.97085135387948, close=209.97085135387948),\n",
       " Company(name='Tran, Camacho and Thompson', symbol='HHMN', opens=2451, high=2831.8442028931945, close=2467.14110212929),\n",
       " Company(name='Boyd, Johnson and Preston', symbol='H,ON', opens=2355, high=2759.9501206224772, close=2407.3888278239583),\n",
       " Company(name='Wilson-Ray', symbol='INOY', opens=1356, high=1508.7022795599296, close=1508.7022795599296),\n",
       " Company(name='Powell PLC', symbol='PEOC', opens=1246, high=1476.9587153107364, close=1476.9587153107364),\n",
       " Company(name='Cummings Group', symbol='IGGO', opens=3815, high=4101.805627872115, close=4101.805627872115),\n",
       " Company(name='Miller Inc', symbol='NCLM', opens=218, high=227.7573502876669, close=192.64827465846236),\n",
       " Company(name='Hoffman-Lucas', symbol='AUFC', opens=1527, high=1486.5018437158226, close=1333.732894667577),\n",
       " Company(name='Adams and Sons', symbol='ASDM', opens=1197, high=1355.0908510139507, close=1355.0908510139507),\n",
       " Company(name='Reynolds-Moore', symbol='YROL', opens=2980, high=3567.5251996933957, close=3567.5251996933957),\n",
       " Company(name='Peterson LLC', symbol='LECL', opens=2887, high=3221.547163122765, close=2357.768065703945),\n",
       " Company(name='Robles, Lewis and Hill', symbol='RSLE', opens=604, high=685.6202533473432, close=549.8275968640954),\n",
       " Company(name='Cole Group', symbol='RCGE', opens=3266, high=3642.288228549917, close=3424.3838270482047),\n",
       " Company(name='Gordon Inc', symbol='DNOG', opens=539, high=573.1930997642581, close=573.1930997642581),\n",
       " Company(name='Brooks PLC', symbol='OOKC', opens=3507, high=3866.7191264884073, close=3187.7150153520174),\n",
       " Company(name='Anderson Ltd', symbol='DNTD', opens=1274, high=1372.4957454749015, close=1144.1296112163395),\n",
       " Company(name='Porter-Bell', symbol='RRE-', opens=1347, high=1145.1624379884063, close=1145.1624379884063),\n",
       " Company(name='Stone LLC', symbol='LOST', opens=1238, high=1371.6996161576792, close=1371.6996161576792),\n",
       " Company(name='Williams, Bailey and Eaton', symbol='E,LE', opens=2700, high=2803.007055571659, close=2803.007055571659),\n",
       " Company(name='Ware, Wyatt and Solomon', symbol='MYOS', opens=3352, high=3912.018109232511, close=3912.018109232511),\n",
       " Company(name='Vasquez, Turner and Barnett', symbol='UQNA', opens=3941, high=3716.82280932313, close=3716.82280932313),\n",
       " Company(name='Bradley, Harrell and Estes', symbol='B,AS', opens=409, high=453.394274288935, close=453.394274288935),\n",
       " Company(name='Navarro-Hutchinson', symbol='RNHO', opens=841, high=925.0913182735628, close=819.7764706301924),\n",
       " Company(name='Jacobson LLC', symbol='AJLO', opens=1901, high=2255.804625927588, close=1893.7419660867013),\n",
       " Company(name='Cook and Sons', symbol='OCDN', opens=981, high=982.6495387026779, close=982.6495387026779),\n",
       " Company(name='Reese, Woodward and Hoffman', symbol='WAMH', opens=3195, high=3831.8712583850183, close=2712.679614915652),\n",
       " Company(name='Greene Group', symbol='GEPO', opens=2062, high=2295.431163835357, close=2029.3834162999717),\n",
       " Company(name='Johnson-Hunt', symbol='JHUN', opens=475, high=445.9538499028771, close=384.62135005411574),\n",
       " Company(name='White-Alexander', symbol='HNIT', opens=1580, high=1394.8808520168745, close=1394.8808520168745),\n",
       " Company(name='Moore-Hammond', symbol='ROOM', opens=3566, high=4065.4482489689553, close=4065.4482489689553),\n",
       " Company(name='Delacruz-Quinn', symbol='UN-U', opens=567, high=665.5991041211853, close=665.5991041211853),\n",
       " Company(name='Phillips, Myers and Hernandez', symbol='HEMZ', opens=660, high=701.3006616079091, close=669.4670253958441),\n",
       " Company(name='Brown Inc', symbol='WBIR', opens=297, high=283.13245800279685, close=283.13245800279685),\n",
       " Company(name='Clark and Sons', symbol='ACAL', opens=2220, high=2562.2284628714137, close=2435.265760547168),\n",
       " Company(name='Shelton-Adams', symbol='OEHL', opens=1132, high=1309.6275130912447, close=991.7510405242764),\n",
       " Company(name='Smith, Galloway and Bennett', symbol='NBSA', opens=880, high=932.0431962712353, close=905.2372954348152),\n",
       " Company(name='Campbell LLC', symbol='CLPE', opens=1608, high=1841.5034030396023, close=1841.5034030396023),\n",
       " Company(name='Brooks, Robinson and Ponce', symbol='SNDR', opens=3879, high=4633.93241480927, close=4263.532604151637),\n",
       " Company(name='Lane Inc', symbol='LACE', opens=370, high=423.58912440941293, close=423.58912440941293),\n",
       " Company(name='Valencia-Saunders', symbol='CAAA', opens=2908, high=3424.7107094794924, close=3424.7107094794924),\n",
       " Company(name='Green-Page', symbol='EEGG', opens=1559, high=1625.2958464275473, close=1625.2958464275473),\n",
       " Company(name='Wright-Harris', symbol='IRTH', opens=2572, high=2296.404164600051, close=2296.404164600051),\n",
       " Company(name='Gordon, Lee and Jones', symbol='EODE', opens=1712, high=1940.295364412291, close=1940.295364412291),\n",
       " Company(name='Hayes LLC', symbol='LHLA', opens=2594, high=3051.746187529051, close=3051.746187529051),\n",
       " Company(name='Middleton, Hoffman and Rivera', symbol='LRDH', opens=546, high=595.8051263481624, close=588.0597134793195),\n",
       " Company(name='Jones Inc', symbol='OCSN', opens=798, high=845.8314105656787, close=845.8314105656787),\n",
       " Company(name='Smith-Mathews', symbol='THSE', opens=3555, high=4025.9843081868444, close=3556.151704084788),\n",
       " Company(name='Horton, Ramirez and Schmidt', symbol='ZAEM', opens=1315, high=1495.3204348481356, close=1495.3204348481356),\n",
       " Company(name='Jacobs, Sanchez and Blair', symbol='SCBO', opens=3674, high=3903.426022791892, close=3506.3371092029297),\n",
       " Company(name='Martinez, Sanchez and Shelton', symbol='ENZH', opens=1428, high=1653.281235336375, close=1637.4937520421367),\n",
       " Company(name='Beck-Huffman', symbol='EHBC', opens=3395, high=3304.9549595792014, close=3085.0505375631233),\n",
       " Company(name='Brown-Stein', symbol='N-TO', opens=1273, high=1385.671238453362, close=1086.8968539753762),\n",
       " Company(name='Shields PLC', symbol='CISL', opens=1479, high=1645.382204173163, close=1383.2999893183062),\n",
       " Company(name='Wright, Franco and Gordon', symbol='RFON', opens=525, high=619.978421157803, close=432.6412421758554),\n",
       " Company(name='Taylor, Zuniga and Morris', symbol='LAGA', opens=3283, high=3863.3147861821544, close=3714.137725918329),\n",
       " Company(name='Anderson, Bennett and Baker', symbol='ADEN', opens=1045, high=1234.4543402374918, close=942.0761897942576),\n",
       " Company(name='Burns-Wilson', symbol='OSIB', opens=2542, high=2927.2880234336876, close=2136.12984200341),\n",
       " Company(name='Wilson Group', symbol='OWRG', opens=3106, high=2794.468315794914, close=2794.468315794914),\n",
       " Company(name='Copeland LLC', symbol='CLLA', opens=3270, high=3651.878860556385, close=3651.878860556385)]"
      ]
     },
     "execution_count": 5,
     "metadata": {},
     "output_type": "execute_result"
    }
   ],
   "source": [
    "create_company(100)"
   ]
  },
  {
   "cell_type": "code",
   "execution_count": null,
   "metadata": {},
   "outputs": [],
   "source": []
  },
  {
   "cell_type": "code",
   "execution_count": null,
   "metadata": {},
   "outputs": [],
   "source": []
  }
 ],
 "metadata": {
  "kernelspec": {
   "display_name": "Python 3",
   "language": "python",
   "name": "python3"
  },
  "language_info": {
   "codemirror_mode": {
    "name": "ipython",
    "version": 3
   },
   "file_extension": ".py",
   "mimetype": "text/x-python",
   "name": "python",
   "nbconvert_exporter": "python",
   "pygments_lexer": "ipython3",
   "version": "3.6.10"
  }
 },
 "nbformat": 4,
 "nbformat_minor": 4
}
